{
 "cells": [
  {
   "cell_type": "code",
   "execution_count": null,
   "id": "5d069a14-fc25-4026-a342-ba986ca3e420",
   "metadata": {
    "scrolled": true
   },
   "outputs": [],
   "source": [
    "!pip install -e ."
   ]
  },
  {
   "cell_type": "code",
   "execution_count": null,
   "id": "4caeea78-6741-4360-b18e-f3239c85975b",
   "metadata": {},
   "outputs": [],
   "source": [
    "!pip install rich"
   ]
  },
  {
   "cell_type": "code",
   "execution_count": null,
   "id": "0",
   "metadata": {
    "tags": []
   },
   "outputs": [],
   "source": [
    "import pystac_client\n",
    "from stac_insitu.filter import filter_trajectories\n",
    "import shapely"
   ]
  },
  {
   "cell_type": "code",
   "execution_count": null,
   "id": "1",
   "metadata": {
    "tags": []
   },
   "outputs": [],
   "source": [
    "client = pystac_client.Client.open(\"https://keewis-stac-insitu.hf.space\")\n",
    "client"
   ]
  },
  {
   "cell_type": "code",
   "execution_count": null,
   "id": "2",
   "metadata": {
    "tags": []
   },
   "outputs": [],
   "source": [
    "import folium\n",
    "import folium.plugins\n",
    "from stac_insitu.visualization import visualize_search"
   ]
  },
  {
   "cell_type": "code",
   "execution_count": null,
   "id": "3",
   "metadata": {
    "tags": []
   },
   "outputs": [],
   "source": [
    "categories = {\n",
    "    \"bo\": \"#008888\",\n",
    "    \"db\": \"#880000\",\n",
    "    \"ml\": \"#880088\",\n",
    "    \"mo\": \"#888800\",\n",
    "    \"pf\": \"#000088\",\n",
    "    \"rf\": \"#008800\",\n",
    "    \"tg\": \"#ff88ff\",\n",
    "    \"ts\": \"#81d4fa\",\n",
    "}\n",
    "\n",
    "\n",
    "def style_function(_, category):\n",
    "    fill_color = categories.get(category, \"#000000\")\n",
    "    style = {\n",
    "        # \"fillColor\": fill_color,\n",
    "        \"color\": fill_color,\n",
    "    }\n",
    "\n",
    "    return {k: v for k, v in style.items() if v is not None}"
   ]
  },
  {
   "cell_type": "code",
   "execution_count": null,
   "id": "4",
   "metadata": {},
   "outputs": [],
   "source": [
    "geometry = shapely.box(-25, 43, 2, 60)\n",
    "timespan = [\"2023-04-15T00:00:00\", \"2023-05-02T00:00:00\"]\n",
    "\n",
    "unfiltered = client.search(\n",
    "    collections=[\"TS\"],\n",
    "    intersects=geometry,\n",
    "    datetime=timespan,\n",
    "    limit=100,\n",
    ").item_collection()\n",
    "\n",
    "filtered = filter_trajectories(unfiltered, geometry, timespan)\n",
    "len(unfiltered), len(filtered)"
   ]
  },
  {
   "cell_type": "code",
   "execution_count": null,
   "id": "5",
   "metadata": {},
   "outputs": [],
   "source": [
    "from rich.console import Console\n",
    "\n",
    "console = Console()"
   ]
  },
  {
   "cell_type": "code",
   "execution_count": null,
   "id": "6",
   "metadata": {
    "scrolled": true
   },
   "outputs": [],
   "source": [
    "console.print(filtered[0].to_dict())"
   ]
  },
  {
   "cell_type": "code",
   "execution_count": null,
   "id": "7",
   "metadata": {
    "tags": []
   },
   "outputs": [],
   "source": [
    "m = folium.plugins.DualMap(layout=\"horizontal\", tiles=\"cartodbpositron\")\n",
    "visualize_search(geometry, unfiltered, m=m.m1)\n",
    "visualize_search(geometry, filtered, m=m.m2)\n",
    "\n",
    "m"
   ]
  },
  {
   "cell_type": "code",
   "execution_count": null,
   "id": "8",
   "metadata": {},
   "outputs": [],
   "source": [
    "import xarray as xr\n",
    "import fsspec"
   ]
  },
  {
   "cell_type": "code",
   "execution_count": null,
   "id": "9",
   "metadata": {
    "scrolled": true
   },
   "outputs": [],
   "source": [
    "fs = fsspec.filesystem(\"http\")\n",
    "dss = [\n",
    "    xr.open_dataset(fs.open(item.assets[\"https\"].href), engine=\"h5netcdf\").load()\n",
    "    for item in filtered\n",
    "]\n",
    "dss"
   ]
  }
 ],
 "metadata": {
  "kernelspec": {
   "display_name": "Python 3 (ipykernel)",
   "language": "python",
   "name": "python3"
  },
  "language_info": {
   "codemirror_mode": {
    "name": "ipython",
    "version": 3
   },
   "file_extension": ".py",
   "mimetype": "text/x-python",
   "name": "python",
   "nbconvert_exporter": "python",
   "pygments_lexer": "ipython3",
   "version": "3.11.7"
  }
 },
 "nbformat": 4,
 "nbformat_minor": 5
}
